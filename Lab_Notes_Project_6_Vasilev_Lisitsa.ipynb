{
  "cells": [
    {
      "cell_type": "markdown",
      "metadata": {
        "id": "HjdFAOdVxMGd"
      },
      "source": [
        "# \"Breathing Without Oxygen: Analysis of Differential Gene Expression in Yeast Under Hypoxic Conditions\"\n",
        "\n",
        "Project #6\n",
        "\n",
        "*Lab Journal by Artem Vasilev and Tatiana Lisitsa*\n",
        "\n",
        "---"
      ]
    },
    {
      "cell_type": "markdown",
      "source": [
        "### **System Info**"
      ],
      "metadata": {
        "id": "qGJCHMiGwMoP"
      }
    },
    {
      "cell_type": "markdown",
      "source": [
        "OS: Ubuntu 22.04.4 LTS\n",
        "\n",
        "Versions of used tools:\n",
        "- snakemake 7.32.4\n",
        "- fastqc 0.12.1\n",
        "- multiqc 1.21\n",
        "- hisat2 2.2.1\n",
        "- samtools 1.19\n",
        "- gffread 0.12.7\n",
        "- featureCounts (subread package) 2.0.6"
      ],
      "metadata": {
        "id": "Yixf6tb-wPZT"
      }
    },
    {
      "cell_type": "markdown",
      "metadata": {
        "id": "L6zhmfk4OtXM"
      },
      "source": [
        "## **Preparing**"
      ]
    },
    {
      "cell_type": "markdown",
      "metadata": {
        "id": "u7yPElPLPFx4"
      },
      "source": [
        "Update packages:\n",
        "\n",
        "`$ sudo apt update && sudo apt upgrade`"
      ]
    },
    {
      "cell_type": "markdown",
      "source": [
        "### **VE setup and downloading tools**"
      ],
      "metadata": {
        "id": "eEO0dUvtcfO_"
      }
    },
    {
      "cell_type": "markdown",
      "source": [
        "Create mamba VE:\n",
        "\n",
        "`$ mamba create -n bi_practice_6 && mamba activate bi_practice_6`"
      ],
      "metadata": {
        "id": "pWiujkCfdGIu"
      }
    },
    {
      "cell_type": "markdown",
      "source": [
        "Install required tools:\n",
        "\n",
        "`$ mamba install -c conda-forge -c bioconda snakemake fastqc multiqc hisat2 samtools gffread subread`"
      ],
      "metadata": {
        "id": "Untmxlf-Dw1y"
      }
    },
    {
      "cell_type": "markdown",
      "source": [
        "Create folder for this project:\n",
        "\n",
        "`$ mkdir Project_6 && cd Project_6`"
      ],
      "metadata": {
        "id": "vnxtj8lm5Px8"
      }
    },
    {
      "cell_type": "markdown",
      "source": [
        "### **Installing the newest version of R ([Method 2](https://phoenixnap.com/kb/install-r-ubuntu))**"
      ],
      "metadata": {
        "id": "zKdaiy0lvniH"
      }
    },
    {
      "cell_type": "markdown",
      "source": [
        "1. `$ sudo apt install software-properties-common dirmngr -y`\n",
        "2. `$ wget -qO- https://cloud.r-project.org/bin/linux/ubuntu/marutter_pubkey.asc | sudo tee -a /etc/apt/trusted.gpg.d/cran_ubuntu_key.asc`\n",
        "3. `$ gpg --show-keys /etc/apt/trusted.gpg.d/cran_ubuntu_key.asc`  # checks the key is E298A3A825C0D65DFD57CBB651716619E084DAB9\n",
        "4. `$ sudo add-apt-repository \"deb https://cloud.r-project.org/bin/linux/ubuntu $(lsb_release -cs)-cran40/\"`\n",
        "5. `$ sudo apt install r-base r-base-dev -y`\n",
        "6. `$ R`  # 4.3.2"
      ],
      "metadata": {
        "id": "nU9xWM8wvE-A"
      }
    },
    {
      "cell_type": "markdown",
      "source": [
        "---"
      ],
      "metadata": {
        "id": "wY9qBwBY8Q7F"
      }
    },
    {
      "cell_type": "markdown",
      "source": [
        "## **Data processing**"
      ],
      "metadata": {
        "id": "8rCL0wb3etNv"
      }
    },
    {
      "cell_type": "markdown",
      "source": [
        "Many of the steps are done using **SnakeMake**. For details see `Snakefile`'s contents"
      ],
      "metadata": {
        "id": "ugMHOgjEEoHh"
      }
    },
    {
      "cell_type": "markdown",
      "source": [
        "### **Downloading**"
      ],
      "metadata": {
        "id": "yhF7rak48C_C"
      }
    },
    {
      "cell_type": "markdown",
      "source": [
        "**Yeast reads:**\n",
        "\n",
        "- SRR941816: fermentation 0 minutes replicate 1\n",
        "- SRR941817: fermentation 0 minutes replicate 2\n",
        "- SRR941818: fermentation 30 minutes replicate 1\n",
        "- SRR941819: fermentation 30 minutes replicate 2\n",
        "\n",
        "**+ Reference genome *Saccharomyces cerevisiae* strain S288c assembly R64 and annotation**\n",
        "\n",
        "```shell\n",
        "$ snakemake --cores=all -p \\\n",
        "raw_data/y00_1.fastq.gz \\\n",
        "raw_data/y00_2.fastq.gz \\\n",
        "raw_data/y30_1.fastq.gz \\\n",
        "raw_data/y30_2.fastq.gz \\\n",
        "reference/Saccharomyces_cerevisiae.fna \\\n",
        "reference/Saccharomyces_cerevisiae.gff\n",
        "```"
      ],
      "metadata": {
        "id": "dMV_TFbHGJ9p"
      }
    },
    {
      "cell_type": "markdown",
      "source": [
        "### **FastQC + MultiQC**"
      ],
      "metadata": {
        "id": "K2NjF6EgJ9GS"
      }
    },
    {
      "cell_type": "markdown",
      "source": [
        "```shell\n",
        "$ snakemake --cores=all -p \\\n",
        "results/fastqc/y00_1_fastqc.html \\\n",
        "results/fastqc/y00_2_fastqc.html \\\n",
        "results/fastqc/y30_1_fastqc.html \\\n",
        "results/fastqc/y30_2_fastqc.html \\\n",
        "results/multiqc/multiqc_report.html\n",
        "```"
      ],
      "metadata": {
        "id": "tIFAuj-JJ89x"
      }
    },
    {
      "cell_type": "markdown",
      "source": [
        "![](fastqc_sequence_counts_plot.png)"
      ],
      "metadata": {
        "id": "SMKjkndRi7CZ"
      }
    },
    {
      "cell_type": "markdown",
      "source": [
        "![](fastqc_per_base_sequence_quality_plot.png)"
      ],
      "metadata": {
        "id": "Sxr316ndjHTy"
      }
    },
    {
      "cell_type": "markdown",
      "source": [
        "### **Analysis Pipeline**"
      ],
      "metadata": {
        "id": "btnfZ57TNges"
      }
    },
    {
      "cell_type": "markdown",
      "source": [
        "```shell\n",
        "$ snakemake --cores=all -p \\\n",
        "results/deseq2/genes.txt \\\n",
        "results/heatmaps/output.pdf\n",
        "```"
      ],
      "metadata": {
        "id": "Jmi9N69gkabs"
      }
    },
    {
      "cell_type": "markdown",
      "source": [
        "This pipeline includes:\n",
        "- Aligning with `HISAT2`\n",
        "- Quantifying with `featureCounts`\n",
        "- Finding differentially expressed genes with `DESeq2`"
      ],
      "metadata": {
        "id": "J_ViXbl1o6sy"
      }
    },
    {
      "cell_type": "markdown",
      "source": [
        "After running all commands above (3), your repository will have the following structure:\n",
        "```\n",
        "-/Practice/Project_6/\n",
        " |- logs\n",
        "       |- feature_all_samples.log (5,4 kB)\n",
        "       |- featureCounts.log (5,4 kB)\n",
        " |- raw_data\n",
        "       |- y00_1.fastq.gz (433,5 MB)\n",
        "       |- y00_2.fastq.gz (477,1 MB)\n",
        "       |- y30_1.fastq.gz (83,1 MB)\n",
        "       |- y30_2.fastq.gz (295,6 MB)\n",
        " |- reference\n",
        "       |- Saccharomyces_cerevisiae.fna (12,3 MB)\n",
        "       |- Saccharomyces_cerevisiae.fna.gz (3,8 MB)\n",
        "       |- Saccharomyces_cerevisiae.gff (12,3 MB)\n",
        "       |- Saccharomyces_cerevisiae.gff.gz (2,2 MB)\n",
        "       |- Saccharomyces_cerevisiae.gtf (2,4 MB)\n",
        " |- results\n",
        "       |- BAM\n",
        "            |- y00_1.bam (321,8 MB)\n",
        "            |- y00_2.bam (356,3 MB)\n",
        "            |- y30_1.bam (67,9 MB)\n",
        "            |- y30_2.bam (226,0 MB)\n",
        "       |- count\n",
        "            |- all_samples.tsv (388,7 kB)\n",
        "            |- all_samples.tsv.summary (608 bytes)\n",
        "            |- simple_counts.txt (179,1 kB)\n",
        "       |- deseq2\n",
        "            |- genes.txt (393 bytes)\n",
        "            |- norm-matrix-deseq2.txt (488,4 kB)\n",
        "            |- result.txt (833,4 kB)\n",
        "       |- fastqc\n",
        "            |- 8 items (4,2 MB)\n",
        "       |- heatmaps\n",
        "            |- output.pdf (283,6 kB)\n",
        "       |- hisat\n",
        "            |- index\n",
        "                 |- 8 items (22,8 MB)\n",
        "       |- multiqc\n",
        "            |- multiqc_data\n",
        "                 |- 7 items (366,9 kB)\n",
        "            |- multiqc_report.html (4,7 MB)\n",
        "```"
      ],
      "metadata": {
        "id": "Qzd38pMK9et0"
      }
    },
    {
      "cell_type": "markdown",
      "source": [
        "### **Draw another heatmap**"
      ],
      "metadata": {
        "id": "4QYwLKJ8MDcr"
      }
    },
    {
      "cell_type": "markdown",
      "source": [
        "Firstly, rename the `output.pdf` file in the `heatmap` folder."
      ],
      "metadata": {
        "id": "Qe8xrV1XO-s9"
      }
    },
    {
      "cell_type": "markdown",
      "source": [
        "Secondly, replace the following code in `r_scripts/draw-heatmap.r`:\n",
        "\n",
        "`cexRow = 0.5` → `cexRow = 0.2`\n",
        "\n",
        "`cexCol = 0.8` → `cexCol = 0.6`"
      ],
      "metadata": {
        "id": "m8nw88XbMIoQ"
      }
    },
    {
      "cell_type": "markdown",
      "source": [
        "Filter 100 highly differentially expressed genes:\n",
        "\n",
        "```shell\n",
        "$ head -n 100 results/deseq2/result.txt | cut -f 1 | cut -d \"-\" -f 2 > results/deseq2/100_genes.txt\n",
        "```"
      ],
      "metadata": {
        "id": "kQYdge7SQdGW"
      }
    },
    {
      "cell_type": "markdown",
      "source": [
        "Run `get_data_subset.py` to obtain subset of data for heatmap:\n",
        "\n",
        "```shell\n",
        "$ python3 get_data_subset.py\n",
        "```"
      ],
      "metadata": {
        "id": "A4hb-GD_Mq9I"
      }
    },
    {
      "cell_type": "markdown",
      "source": [
        "And draw the 2nd heatmap manually:\n",
        "\n",
        "```shell\n",
        "$ cat results/deseq2/norm-matrix-deseq2_100_genes.txt | R -f r_scripts/draw-heatmap.r\n",
        "```"
      ],
      "metadata": {
        "id": "jLpKvTy6OuV5"
      }
    },
    {
      "cell_type": "markdown",
      "source": [
        "---"
      ],
      "metadata": {
        "id": "Ibqize4oEFR2"
      }
    },
    {
      "cell_type": "markdown",
      "source": [
        "## **Data analyzing**"
      ],
      "metadata": {
        "id": "4E2GbEjX7EaF"
      }
    },
    {
      "cell_type": "markdown",
      "source": [
        "Go to http://www.yeastgenome.org/cgi-bin/GO/goSlimMapper.pl\n",
        "\n",
        "For your top 100 differentially expressed genes:\n",
        "- in step 1 press \"Choose file\" and upload `100_genes.txt`\n",
        "- in step 2, select \"Yeast GO-Slim: Process\"\n",
        "- in step 3, make sure \"SELECT ALL TERMS\" is highlighted. Press \"Submit Form\""
      ],
      "metadata": {
        "id": "lA20ic3xQ2t1"
      }
    },
    {
      "cell_type": "markdown",
      "source": [
        "We can see a lot of upregulated genes and also **6 downregulated** from our top 100:\n",
        "\n",
        "- YDR342C\n",
        "- YKR097W\n",
        "- YLR327C\n",
        "- YCR021C\n",
        "- YMR081C\n",
        "- YNL117W"
      ],
      "metadata": {
        "id": "1Gq81oF0Q2we"
      }
    },
    {
      "cell_type": "markdown",
      "source": [
        "[Heatmap for all genes](https://github.com/ArtemVaska/BI_Practice_Project_6/blob/main/output_all_genes.pdf)\n",
        "\n",
        "\n",
        "[Heatmap for 100 genes](https://github.com/ArtemVaska/BI_Practice_Project_6/blob/main/output_100_genes.pdf)"
      ],
      "metadata": {
        "id": "b7Lw00ncQ2y-"
      }
    },
    {
      "cell_type": "markdown",
      "source": [
        "The tables of **annotated genes** you can find in the GitHub repository\n",
        "\n",
        "You have to download them and open in browser to see the results"
      ],
      "metadata": {
        "id": "7l-Bo_5QZSeL"
      }
    }
  ],
  "metadata": {
    "colab": {
      "provenance": [],
      "toc_visible": true
    },
    "kernelspec": {
      "display_name": "Python 3 (ipykernel)",
      "language": "python",
      "name": "python3"
    },
    "language_info": {
      "codemirror_mode": {
        "name": "ipython",
        "version": 3
      },
      "file_extension": ".py",
      "mimetype": "text/x-python",
      "name": "python",
      "nbconvert_exporter": "python",
      "pygments_lexer": "ipython3",
      "version": "3.10.12"
    }
  },
  "nbformat": 4,
  "nbformat_minor": 0
}